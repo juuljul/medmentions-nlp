{
 "cells": [
  {
   "cell_type": "markdown",
   "metadata": {},
   "source": [
    "### Téléchargement et aperçu du dataset MedMentions"
   ]
  },
  {
   "cell_type": "markdown",
   "metadata": {},
   "source": [
    "MedMentions est un corpus contenant des entités biomédicales extraites de PubMed.  \n",
    "Les annotations incluent des entités comme des maladies, des traitements, et d'autres concepts biomédicaux."
   ]
  },
  {
   "cell_type": "markdown",
   "metadata": {},
   "source": [
    "https://github.com/chanzuckerberg/MedMentions"
   ]
  },
  {
   "cell_type": "code",
   "execution_count": 2,
   "metadata": {},
   "outputs": [
    {
     "name": "stdout",
     "output_type": "stream",
     "text": [
      "25763772|t|DCTN4 as a modifier of chronic Pseudomonas aeruginosa infection in cystic fibrosis\n",
      "25763772|a|Pseudomonas aeruginosa (Pa) infection in cystic fibrosis (CF) patients is associated with worse long-term pulmonary disease and shorter survival, and chronic Pa infection (CPA) is associated with reduced lung function, faster rate of lung decline, increased rates of exacerbations and shorter survival. By using exome sequencing and extreme phenotype design, it was recently shown that isoforms of dynactin 4 (DCTN4) may influence Pa infection in CF, leading to worse respiratory disease. The purpose of this study was to investigate the role of DCTN4 missense variants on Pa infection incidence, age at first Pa infection and chronic Pa infection incidence in a cohort of adult CF patients from a single centre. Polymerase chain reaction and direct sequencing were used to screen DNA samples for DCTN4 variants. A total of 121 adult CF patients from the Cochin Hospital CF centre have been included, all of them carrying two CFTR defects: 103 developed at least 1 pulmonary infection with Pa, and 68 patients of them had CPA. DCTN4 variants were identified in 24% (29/121) CF patients with Pa infection and in only 17% (3/18) CF patients with no Pa infection. Of the patients with CPA, 29% (20/68) had DCTN4 missense variants vs 23% (8/35) in patients without CPA. Interestingly, p.Tyr263Cys tend to be more frequently observed in CF patients with CPA than in patients without CPA (4/68 vs 0/35), and DCTN4 missense variants tend to be more frequent in male CF patients with CPA bearing two class II mutations than in male CF patients without CPA bearing two class II mutations (P = 0.06). Our observations reinforce that DCTN4 missense variants, especially p.Tyr263Cys, may be involved in the pathogenesis of CPA in male CF.\n",
      "25763772\t0\t5\tDCTN4\tT116,T123\tC4308010\n",
      "25763772\t23\t63\tchronic Pseudomonas aeruginosa infection\tT047\tC0854135\n",
      "25763772\t67\t82\tcystic fibrosis\tT047\tC0010674\n",
      "25763772\t83\t120\tPseudomonas aeruginosa (Pa) infection\tT047\tC0854135\n",
      "25763772\t124\t139\tcystic fibrosis\tT047\tC0010674\n",
      "25763772\t141\t143\tCF\tT047\tC0010674\n",
      "25763772\t145\t153\tpatients\tT101\tC0030705\n",
      "25763772\t179\t188\tlong-term\tT079\tC0443252\n",
      "25763772\t189\t206\tpulmonary disease\tT047\tC0024115\n",
      "25763772\t211\t227\tshorter survival\tT169\tC0220921\n",
      "25763772\t233\t253\tchronic Pa infection\tT047\tC0854135\n",
      "25763772\t255\t258\tCPA\tT047\tC0854135\n",
      "25763772\t279\t300\treduced lung function\tT033\tC0847557\n",
      "25763772\t302\t329\tfaster rate of lung decline\tT033\tC3160731\n",
      "25763772\t341\t346\trates\tT081\tC1521828\n",
      "25763772\t350\t363\texacerbations\tT033\tC4086268\n",
      "25763772\t368\t384\tshorter survival\tT169\tC0220921\n",
      "25763772\t395\t411\texome sequencing\tT063\tC3640077\n",
      "25763772\t416\t440\textreme phenotype design\tT052\tC1707689\n",
      "25763772\t469\t477\tisoforms\tT116\tC0597298\n",
      "25763772\t481\t491\tdynactin 4\tT116,T123\tC4308010\n",
      "25763772\t493\t498\tDCTN4\tT116,T123\tC4308010\n",
      "25763772\t514\t526\tPa infection\tT047\tC0854135\n",
      "25763772\t530\t532\tCF\tT047\tC0010674\n",
      "25763772\t551\t570\trespiratory disease\tT047\tC0035204\n",
      "25763772\t592\t597\tstudy\tT062\tC2603343\n",
      "25763772\t605\t616\tinvestigate\tT169\tC1292732\n",
      "25763772\t629\t634\tDCTN4\tT116,T123\tC4308010\n",
      "25763772\t635\t643\tmissense\tT033\tC3845273\n",
      "25763772\t644\t652\tvariants\tT116\tC0597298\n",
      "25763772\t656\t668\tPa infection\tT047\tC0854135\n",
      "25763772\t669\t678\tincidence\tT081\tC0021149\n",
      "25763772\t680\t683\tage\tT032\tC0001779\n",
      "25763772\t693\t705\tPa infection\tT047\tC0854135\n",
      "25763772\t710\t730\tchronic Pa infection\tT047\tC0854135\n",
      "25763772\t731\t740\tincidence\tT081\tC0021149\n",
      "25763772\t746\t752\tcohort\tT098\tC0599755\n",
      "25763772\t756\t761\tadult\tT100\tC0001675\n",
      "25763772\t762\t764\tCF\tT047\tC0010674\n",
      "25763772\t765\t773\tpatients\tT101\tC0030705\n",
      "25763772\t788\t794\tcentre\tT073,T093\tC0475309\n",
      "25763772\t796\t821\tPolymerase chain reaction\tT063\tC0032520\n",
      "25763772\t826\t843\tdirect sequencing\tT063\tC3899368\n",
      "25763772\t864\t875\tDNA samples\tT026\tC0444245\n",
      "25763772\t880\t885\tDCTN4\tT116,T123\tC4308010\n",
      "25763772\t886\t894\tvariants\tT116\tC0597298\n",
      "25763772\t911\t916\tadult\tT100\tC0001675\n",
      "25763772\t917\t919\tCF\tT047\tC0010674\n"
     ]
    }
   ],
   "source": [
    "import gzip\n",
    "import pandas as pd\n",
    "\n",
    "# Chemin vers le fichier compressé PubTator\n",
    "file_path = 'corpus_pubtator.txt.gz'\n",
    "\n",
    "# Ouverture et lecture du fichier compressé\n",
    "with gzip.open(file_path, 'rt', encoding='utf-8') as f:\n",
    "    data = f.readlines()\n",
    "\n",
    "# Affichage des premières lignes pour inspecter le format\n",
    "for line in data[:50]:\n",
    "    print(line.strip())\n"
   ]
  },
  {
   "cell_type": "markdown",
   "metadata": {},
   "source": [
    "Le dataset MedMentions est fourni au format PubTator compressé (corpus_pubtator.txt.gz). Le format PubTator est souvent utilisé dans les corpus biomédicaux et contient à la fois les textes et les annotations dans un fichier texte structuré.\n",
    "\n",
    "#### Structure du fichier PubTator\n",
    "\n",
    "Le fichier corpus_pubtator.txt.gz contient des documents annotés selon ce format :\n",
    "\n",
    "    Chaque document commence par un PMID (identifiant unique du document).\n",
    "    Ensuite, il y a des lignes avec le titre et le résumé du document.\n",
    "    Les annotations suivent sous forme de lignes décrivant les entités biomédicales (mentionnées par leur position dans le texte, leur type et leur identifiant UMLS)."
   ]
  },
  {
   "cell_type": "markdown",
   "metadata": {},
   "source": [
    "Le UMLS (Unified Medical Language System) est un système développé par la National Library of Medicine (NLM) des États-Unis pour faciliter l'intégration et l'interopérabilité des terminologies biomédicales et des systèmes d'information en santé.  \n",
    "  \n",
    "Les concepts médicaux sont identifiés par un Concept Unique Identifier (CUI).  \n",
    "Par exemple:\n",
    "CUI : C0011849 correspond au concept \"Diabetes Mellitus\".  \n",
    "CUI : C0004238 correspond au concept \"Cancer\". Chaque concept est lié à plusieurs termes et codes issus de différentes sources terminologiques.  \n",
    "  \n",
    "De même, les types sémantiques de l'UMLS sont documentés et classés dans le Semantic Network de l'UMLS.  \n",
    "Exemple des types sémantiques :  \n",
    "T047 : Disease or Syndrome (Maladie ou Syndrome)  \n",
    "T116 : Amino Acid, Peptide, or Protein  \n",
    "T121 : Pharmacologic Substance  \n",
    "T195 : Antibiotic  "
   ]
  },
  {
   "cell_type": "code",
   "execution_count": 33,
   "metadata": {},
   "outputs": [
    {
     "name": "stdout",
     "output_type": "stream",
     "text": [
      "{'title': 'Prevascularized silicon membranes for the enhancement of transport to implanted medical devices', 'abstract': 'Recent advances in drug delivery and sensing devices for in situ applications are limited by the diffusion -limiting foreign body response of fibrous encapsulation. In this study, we fabricated prevascularized synthetic device ports to help mitigate this limitation. Membranes with rectilinear arrays of square pores with widths ranging from 40 to 200 μm were created using materials (50 μm thick double-sided polished silicon) and processes (photolithography and directed reactive ion etching) common in the manufacturing of microfabricated sensors. Vascular endothelial cells responded to membrane geometry by either forming vascular tubes that extended through the pore or completely filling membrane pores after 4 days in culture. Although tube formation began to predominate overgrowth around 75 μm and continued to increase at even larger pore sizes, tubes formed at these large pore sizes were not completely round and had relatively thin walls. Thus, the optimum range of pore size for prevascularization of these membranes was estimated to be 75-100 μm. This study lays the foundation for creating a prevascularized port that can be used to reduce fibrous encapsulation and thus enhance diffusion to implanted medical devices and sensors. © 2015 Wiley Periodicals, Inc. J Biomed Mater Res Part B: Appl Biomater, 104B: 1602-1609, 2016.'}\n",
      "[{'start': '0', 'end': '6', 'mention': 'Seated', 'sem_type': 'T033', 'umls_id': 'C0277814'}, {'start': '7', 'end': '14', 'mention': 'maximum', 'sem_type': 'T081', 'umls_id': 'C0806909'}, {'start': '15', 'end': '22', 'mention': 'flexion', 'sem_type': 'T042', 'umls_id': 'C0231452'}, {'start': '27', 'end': '38', 'mention': 'alternative', 'sem_type': 'T077', 'umls_id': 'C1523987'}, {'start': '42', 'end': '50', 'mention': 'standing', 'sem_type': 'T082', 'umls_id': 'C0231472'}, {'start': '51', 'end': '58', 'mention': 'maximum', 'sem_type': 'T081', 'umls_id': 'C0806909'}, {'start': '59', 'end': '66', 'mention': 'flexion', 'sem_type': 'T042', 'umls_id': 'C0231452'}, {'start': '95', 'end': '102', 'mention': 'flexion', 'sem_type': 'T042', 'umls_id': 'C0231452'}, {'start': '105', 'end': '115', 'mention': 'relaxation', 'sem_type': 'T052', 'umls_id': 'C0035028'}, {'start': '121', 'end': '128', 'mention': 'flexion', 'sem_type': 'T042', 'umls_id': 'C0231452'}, {'start': '131', 'end': '141', 'mention': 'relaxation', 'sem_type': 'T052', 'umls_id': 'C0035028'}, {'start': '142', 'end': '152', 'mention': 'phenomenon', 'sem_type': 'T067', 'umls_id': 'C1882365'}, {'start': '154', 'end': '157', 'mention': 'FRP', 'sem_type': 'T067', 'umls_id': 'C1882365'}, {'start': '162', 'end': '170', 'mention': 'standing', 'sem_type': 'T082', 'umls_id': 'C0231472'}, {'start': '176', 'end': '184', 'mention': 'specific', 'sem_type': 'T080', 'umls_id': 'C0205369'}, {'start': '189', 'end': '198', 'mention': 'sensitive', 'sem_type': 'T169', 'umls_id': 'C0332324'}, {'start': '199', 'end': '214', 'mention': 'diagnostic tool', 'sem_type': 'T060', 'umls_id': 'C0430022'}, {'start': '219', 'end': '232', 'mention': 'low back pain', 'sem_type': 'T184', 'umls_id': 'C0024031'}, {'start': '234', 'end': '248', 'mention': 'Seated flexion', 'sem_type': 'T042', 'umls_id': 'C0231452'}, {'start': '255', 'end': '266', 'mention': 'alternative', 'sem_type': 'T077', 'umls_id': 'C1523987'}, {'start': '299', 'end': '310', 'mention': 'populations', 'sem_type': 'T098', 'umls_id': 'C1257890'}, {'start': '336', 'end': '351', 'mention': 'trunk extensors', 'sem_type': 'T024', 'umls_id': 'C0026845'}, {'start': '359', 'end': '365', 'mention': 'seated', 'sem_type': 'T033', 'umls_id': 'C0277814'}, {'start': '366', 'end': '373', 'mention': 'maximum', 'sem_type': 'T081', 'umls_id': 'C0806909'}, {'start': '374', 'end': '381', 'mention': 'flexion', 'sem_type': 'T042', 'umls_id': 'C0231452'}, {'start': '394', 'end': '402', 'mention': 'standing', 'sem_type': 'T082', 'umls_id': 'C0231472'}, {'start': '403', 'end': '410', 'mention': 'flexion', 'sem_type': 'T042', 'umls_id': 'C0231452'}, {'start': '436', 'end': '439', 'mention': 'FRP', 'sem_type': 'T067', 'umls_id': 'C1882365'}, {'start': '456', 'end': '461', 'mention': 'spine', 'sem_type': 'T023', 'umls_id': 'C0037949'}, {'start': '462', 'end': '468', 'mention': 'angles', 'sem_type': 'T082', 'umls_id': 'C0205143'}, {'start': '477', 'end': '483', 'mention': 'seated', 'sem_type': 'T033', 'umls_id': 'C0277814'}, {'start': '488', 'end': '496', 'mention': 'standing', 'sem_type': 'T082', 'umls_id': 'C0231472'}, {'start': '497', 'end': '504', 'mention': 'flexion', 'sem_type': 'T042', 'umls_id': 'C0231452'}, {'start': '505', 'end': '513', 'mention': 'postures', 'sem_type': 'T032', 'umls_id': 'C0231476'}, {'start': '523', 'end': '529', 'mention': 'levels', 'sem_type': 'T080', 'umls_id': 'C0441889'}, {'start': '537', 'end': '559', 'mention': 'erector spinae muscles', 'sem_type': 'T023', 'umls_id': 'C0224301'}, {'start': '572', 'end': '584', 'mention': 'participants', 'sem_type': 'T098', 'umls_id': 'C0679646'}, {'start': '593', 'end': '602', 'mention': 'back pain', 'sem_type': 'T184', 'umls_id': 'C0004604'}, {'start': '613', 'end': '619', 'mention': 'seated', 'sem_type': 'T033', 'umls_id': 'C0277814'}, {'start': '624', 'end': '632', 'mention': 'standing', 'sem_type': 'T082', 'umls_id': 'C0231472'}, {'start': '633', 'end': '640', 'mention': 'maximum', 'sem_type': 'T081', 'umls_id': 'C0806909'}, {'start': '641', 'end': '646', 'mention': 'trunk', 'sem_type': 'T029', 'umls_id': 'C0460005'}, {'start': '647', 'end': '654', 'mention': 'flexion', 'sem_type': 'T042', 'umls_id': 'C0231452'}, {'start': '656', 'end': '683', 'mention': 'Electromyographical signals', 'sem_type': 'T067', 'umls_id': 'C1710082'}, {'start': '707', 'end': '728', 'mention': 'bilateral lumbar (L3)', 'sem_type': 'T023', 'umls_id': 'C0223522'}, {'start': '730', 'end': '749', 'mention': 'lower-thoracic (T9)', 'sem_type': 'T023', 'umls_id': 'C0459954'}, {'start': '755', 'end': '774', 'mention': 'upper-thoracic (T4)', 'sem_type': 'T023', 'umls_id': 'C1180431'}, {'start': '775', 'end': '789', 'mention': 'erector spinae', 'sem_type': 'T023', 'umls_id': 'C0224301'}, {'start': '794', 'end': '802', 'mention': 'assessed', 'sem_type': 'T052', 'umls_id': 'C1516048'}, {'start': '825', 'end': '828', 'mention': 'FRP', 'sem_type': 'T067', 'umls_id': 'C1882365'}, {'start': '830', 'end': '842', 'mention': 'Spine angles', 'sem_type': 'T082', 'umls_id': 'C0205143'}, {'start': '860', 'end': '863', 'mention': 'FRP', 'sem_type': 'T067', 'umls_id': 'C1882365'}, {'start': '874', 'end': '883', 'mention': 'cessation', 'sem_type': 'T052', 'umls_id': 'C1880019'}, {'start': '905', 'end': '908', 'mention': 'FRP', 'sem_type': 'T067', 'umls_id': 'C1882365'}, {'start': '925', 'end': '931', 'mention': 'angles', 'sem_type': 'T082', 'umls_id': 'C0205143'}, {'start': '937', 'end': '945', 'mention': 'compared', 'sem_type': 'T052', 'umls_id': 'C1707455'}, {'start': '954', 'end': '961', 'mention': 'posture', 'sem_type': 'T032', 'umls_id': 'C0231476'}, {'start': '966', 'end': '972', 'mention': 'muscle', 'sem_type': 'T024', 'umls_id': 'C0026845'}, {'start': '974', 'end': '977', 'mention': 'FRP', 'sem_type': 'T067', 'umls_id': 'C1882365'}, {'start': '1004', 'end': '1012', 'mention': 'standing', 'sem_type': 'T082', 'umls_id': 'C0231472'}, {'start': '1017', 'end': '1023', 'mention': 'seated', 'sem_type': 'T033', 'umls_id': 'C0277814'}, {'start': '1024', 'end': '1031', 'mention': 'maximum', 'sem_type': 'T081', 'umls_id': 'C0806909'}, {'start': '1032', 'end': '1039', 'mention': 'flexion', 'sem_type': 'T042', 'umls_id': 'C0231452'}, {'start': '1051', 'end': '1058', 'mention': 'muscles', 'sem_type': 'T024', 'umls_id': 'C0026845'}, {'start': '1069', 'end': '1083', 'mention': 'lumbar muscles', 'sem_type': 'T024', 'umls_id': 'C0026845'}, {'start': '1105', 'end': '1116', 'mention': 'consistency', 'sem_type': 'T080', 'umls_id': 'C0332529'}, {'start': '1118', 'end': '1126', 'mention': 'Standing', 'sem_type': 'T082', 'umls_id': 'C0231472'}, {'start': '1127', 'end': '1130', 'mention': 'FRP', 'sem_type': 'T067', 'umls_id': 'C1882365'}, {'start': '1141', 'end': '1150', 'mention': 'cessation', 'sem_type': 'T052', 'umls_id': 'C1880019'}, {'start': '1207', 'end': '1213', 'mention': 'seated', 'sem_type': 'T033', 'umls_id': 'C0277814'}, {'start': '1214', 'end': '1217', 'mention': 'FRP', 'sem_type': 'T067', 'umls_id': 'C1882365'}, {'start': '1260', 'end': '1263', 'mention': 'FRP', 'sem_type': 'T067', 'umls_id': 'C1882365'}, {'start': '1277', 'end': '1283', 'mention': 'seated', 'sem_type': 'T033', 'umls_id': 'C0277814'}, {'start': '1284', 'end': '1291', 'mention': 'maximum', 'sem_type': 'T081', 'umls_id': 'C0806909'}, {'start': '1292', 'end': '1299', 'mention': 'flexion', 'sem_type': 'T042', 'umls_id': 'C0231452'}, {'start': '1328', 'end': '1337', 'mention': 'criterion', 'sem_type': 'T078', 'umls_id': 'C0243161'}, {'start': '1342', 'end': '1355', 'mention': 'low back pain', 'sem_type': 'T184', 'umls_id': 'C0024031'}, {'start': '1356', 'end': '1365', 'mention': 'diagnosis', 'sem_type': 'T033', 'umls_id': 'C0011900'}, {'start': '1422', 'end': '1426', 'mention': 'test', 'sem_type': 'T169', 'umls_id': 'C0039593'}, {'start': '1430', 'end': '1441', 'mention': 'individuals', 'sem_type': 'T098', 'umls_id': 'C0027361'}, {'start': '1447', 'end': '1460', 'mention': 'low back pain', 'sem_type': 'T184', 'umls_id': 'C0024031'}]\n"
     ]
    }
   ],
   "source": [
    "pmid_to_text = {}\n",
    "pmid_to_annotations = {}\n",
    "\n",
    "for line in data:\n",
    "    line = line.strip()\n",
    "    \n",
    "    if \"|t|\" in line:  # Titre de l'article\n",
    "        pmid, title = line.split('|t|')\n",
    "        pmid_to_text[pmid] = {'title': title, 'abstract': ''}\n",
    "    \n",
    "    elif \"|a|\" in line:  # Résumé de l'article\n",
    "        pmid, abstract = line.split('|a|')\n",
    "        pmid_to_text[pmid]['abstract'] = abstract\n",
    "    \n",
    "    elif len(line.split('\\t')) == 6:  # Annotations\n",
    "        pmid, start, end, mention, sem_type, umls_id = line.split('\\t')\n",
    "        if pmid not in pmid_to_annotations:\n",
    "            pmid_to_annotations[pmid] = []\n",
    "        pmid_to_annotations[pmid].append({\n",
    "            'start': start, 'end': end, 'mention': mention,\n",
    "            'sem_type': sem_type, 'umls_id': umls_id\n",
    "        })\n",
    "\n",
    "# Exemple d'accès aux données extraites\n",
    "print(pmid_to_text['26316050'])  # Affiche le titre et résumé pour un PMID donné\n",
    "print(pmid_to_annotations['26406200'])  # Affiche les annotations pour ce même document\n"
   ]
  },
  {
   "cell_type": "markdown",
   "metadata": {},
   "source": [
    "### Prétraitement des textes"
   ]
  },
  {
   "cell_type": "markdown",
   "metadata": {},
   "source": [
    "On va procéder aux étapes suivantes :\n",
    "\n",
    "    Tokeniser les textes (diviser les phrases en mots),\n",
    "    Supprimer les stopwords (mots non pertinents comme \"the\", \"is\", etc.),\n",
    "    Lémmatiser les mots (ramener les mots à leur forme de base)."
   ]
  },
  {
   "cell_type": "code",
   "execution_count": null,
   "metadata": {},
   "outputs": [],
   "source": [
    "import nltk\n",
    "from nltk.tokenize import word_tokenize\n",
    "from nltk.corpus import stopwords\n",
    "from nltk.stem import WordNetLemmatizer\n",
    "\n",
    "# Téléchargement des stopwords et des outils de lemmatisation\n",
    "nltk.download('punkt')\n",
    "nltk.download('stopwords')\n",
    "nltk.download('wordnet')\n",
    "nltk.download('punkt_tab')\n",
    "\n",
    "\n",
    "lemmatizer = WordNetLemmatizer()\n",
    "stop_words = set(stopwords.words('english'))\n",
    "\n",
    "def preprocess_text(text):\n",
    "    # Tokenisation\n",
    "    tokens = word_tokenize(text)\n",
    "    \n",
    "    # Suppression des stopwords et lemmatisation\n",
    "    tokens = [lemmatizer.lemmatize(word) for word in tokens if word.isalnum() and word.lower() not in stop_words]\n",
    "    \n",
    "    # Reconstitution du texte prétraité\n",
    "    return ' '.join(tokens)\n",
    "\n",
    "# Prétraitement des textes (titres + résumés)\n",
    "for pmid, content in pmid_to_text.items():\n",
    "    full_text = content['title'] + ' ' + content['abstract']\n",
    "    pmid_to_text[pmid]['processed_text'] = preprocess_text(full_text)\n",
    "\n",
    "# Affichage d'exemple de texte prétraité\n",
    "print(pmid_to_text['26316050']['processed_text'])\n"
   ]
  },
  {
   "cell_type": "markdown",
   "metadata": {},
   "source": [
    "### Extraction et structuration des entités"
   ]
  },
  {
   "cell_type": "markdown",
   "metadata": {},
   "source": [
    "Ce code associe les entités biomédicales aux textes basés sur leurs positions dans le texte. Chaque entité contient :\n",
    "\n",
    "    Le texte de l'entité (extrait directement du texte à partir des positions),\n",
    "    La mention originale annotée,\n",
    "    Le type sémantique (par exemple, \"Disease\", \"Drug\", etc.),\n",
    "    L’ID UMLS (identifiant unique de l'entité dans UMLS)."
   ]
  },
  {
   "cell_type": "code",
   "execution_count": 35,
   "metadata": {},
   "outputs": [
    {
     "name": "stdout",
     "output_type": "stream",
     "text": [
      "[{'entity_text': 'Prevascularized', 'mention': 'Prevascularized', 'type': 'T169', 'umls_id': 'C0042382'}, {'entity_text': 'silicon', 'mention': 'silicon', 'type': 'T109,T122', 'umls_id': 'C0037114'}, {'entity_text': 'membranes', 'mention': 'membranes', 'type': 'T073', 'umls_id': 'C1706182'}, {'entity_text': 'enhancement', 'mention': 'enhancement', 'type': 'T052', 'umls_id': 'C2349975'}, {'entity_text': 'transport', 'mention': 'transport', 'type': 'T169', 'umls_id': 'C1705822'}, {'entity_text': 'implanted medical devices', 'mention': 'implanted medical devices', 'type': 'T033', 'umls_id': 'C2828363'}, {'entity_text': 'drug delivery', 'mention': 'drug delivery', 'type': 'T074', 'umls_id': 'C0085104'}, {'entity_text': 'sensing devices', 'mention': 'sensing devices', 'type': 'T073', 'umls_id': 'C0183210'}, {'entity_text': 'in situ', 'mention': 'in situ', 'type': 'T082', 'umls_id': 'C0444498'}, {'entity_text': 'applications', 'mention': 'applications', 'type': 'T058', 'umls_id': 'C0185125'}, {'entity_text': 'limited', 'mention': 'limited', 'type': 'T169', 'umls_id': 'C0439801'}, {'entity_text': 'diffusion', 'mention': 'diffusion', 'type': 'T070', 'umls_id': 'C0012222'}, {'entity_text': 'foreign body response', 'mention': 'foreign body response', 'type': 'T033', 'umls_id': 'C1708386'}, {'entity_text': 'fibrous', 'mention': 'fibrous', 'type': 'T080', 'umls_id': 'C0439709'}, {'entity_text': 'encapsulation', 'mention': 'encapsulation', 'type': 'T067', 'umls_id': 'C2348438'}, {'entity_text': 'prevascularized', 'mention': 'prevascularized', 'type': 'T169', 'umls_id': 'C0042382'}, {'entity_text': 'synthetic device ports', 'mention': 'synthetic device ports', 'type': 'T073', 'umls_id': 'C1706409'}, {'entity_text': 'mitigate', 'mention': 'mitigate', 'type': 'T067', 'umls_id': 'C1553901'}, {'entity_text': 'limitation', 'mention': 'limitation', 'type': 'T169', 'umls_id': 'C0449295'}, {'entity_text': 'Membranes', 'mention': 'Membranes', 'type': 'T073', 'umls_id': 'C1706182'}, {'entity_text': 'rectilinear arrays', 'mention': 'rectilinear arrays', 'type': 'T082', 'umls_id': 'C1254362'}, {'entity_text': 'square', 'mention': 'square', 'type': 'T082', 'umls_id': 'C0205120'}, {'entity_text': 'pores', 'mention': 'pores', 'type': 'T082', 'umls_id': 'C1254362'}, {'entity_text': 'widths', 'mention': 'widths', 'type': 'T081', 'umls_id': 'C0487742'}, {'entity_text': 'materials', 'mention': 'materials', 'type': 'T167', 'umls_id': 'C0520510'}, {'entity_text': 'thick', 'mention': 'thick', 'type': 'T080', 'umls_id': 'C1280412'}, {'entity_text': 'double-sided', 'mention': 'double-sided', 'type': 'T082', 'umls_id': 'C1254362'}, {'entity_text': 'polished silicon', 'mention': 'polished silicon', 'type': 'T109,T122', 'umls_id': 'C0037114'}, {'entity_text': 'processes', 'mention': 'processes', 'type': 'T067', 'umls_id': 'C1522240'}, {'entity_text': 'photolithography', 'mention': 'photolithography', 'type': 'T057', 'umls_id': 'C0599199'}, {'entity_text': 'directed reactive ion etching', 'mention': 'directed reactive ion etching', 'type': 'T067', 'umls_id': 'C1254366'}, {'entity_text': 'manufacturing', 'mention': 'manufacturing', 'type': 'T057', 'umls_id': 'C0870840'}, {'entity_text': 'microfabricated sensors', 'mention': 'microfabricated sensors', 'type': 'T073', 'umls_id': 'C0183210'}, {'entity_text': 'Vascular endothelial cells', 'mention': 'Vascular endothelial cells', 'type': 'T025', 'umls_id': 'C1257792'}, {'entity_text': 'membrane geometry', 'mention': 'membrane geometry', 'type': 'T073', 'umls_id': 'C1706182'}, {'entity_text': 'vascular tubes', 'mention': 'vascular tubes', 'type': 'T023', 'umls_id': 'C0005847'}, {'entity_text': 'extended', 'mention': 'extended', 'type': 'T082', 'umls_id': 'C0231449'}, {'entity_text': 'pore', 'mention': 'pore', 'type': 'T082', 'umls_id': 'C1254362'}, {'entity_text': 'completely', 'mention': 'completely', 'type': 'T080', 'umls_id': 'C0205197'}, {'entity_text': 'filling', 'mention': 'filling', 'type': 'T052', 'umls_id': 'C0441655'}, {'entity_text': 'filling', 'mention': 'filling', 'type': 'T052', 'umls_id': 'C0441655'}, {'entity_text': 'membrane', 'mention': 'membrane', 'type': 'T073', 'umls_id': 'C1706182'}, {'entity_text': 'pores', 'mention': 'pores', 'type': 'T082', 'umls_id': 'C1254362'}, {'entity_text': 'culture', 'mention': 'culture', 'type': 'T059', 'umls_id': 'C1331092'}, {'entity_text': 'tube formation', 'mention': 'tube formation', 'type': 'T169', 'umls_id': 'C0042382'}, {'entity_text': 'predominate', 'mention': 'predominate', 'type': 'T080', 'umls_id': 'C0332251'}, {'entity_text': 'overgrowth', 'mention': 'overgrowth', 'type': 'T033', 'umls_id': 'C1849265'}, {'entity_text': 'increase', 'mention': 'increase', 'type': 'T169', 'umls_id': 'C0442805'}, {'entity_text': 'larger', 'mention': 'larger', 'type': 'T081', 'umls_id': 'C0549177'}, {'entity_text': 'pore sizes', 'mention': 'pore sizes', 'type': 'T081', 'umls_id': 'C3829176'}, {'entity_text': 'tubes formed', 'mention': 'tubes formed', 'type': 'T169', 'umls_id': 'C0042382'}, {'entity_text': 'large', 'mention': 'large', 'type': 'T081', 'umls_id': 'C0549177'}, {'entity_text': 'pore sizes', 'mention': 'pore sizes', 'type': 'T081', 'umls_id': 'C3829176'}, {'entity_text': 'completely', 'mention': 'completely', 'type': 'T080', 'umls_id': 'C0205197'}, {'entity_text': 'round', 'mention': 'round', 'type': 'T082', 'umls_id': 'C0332490'}, {'entity_text': 'thin', 'mention': 'thin', 'type': 'T080', 'umls_id': 'C0205168'}, {'entity_text': 'walls', 'mention': 'walls', 'type': 'T082', 'umls_id': 'C0442069'}, {'entity_text': 'optimum', 'mention': 'optimum', 'type': 'T080', 'umls_id': 'C2698651'}, {'entity_text': 'range', 'mention': 'range', 'type': 'T081', 'umls_id': 'C1514721'}, {'entity_text': 'pore size', 'mention': 'pore size', 'type': 'T081', 'umls_id': 'C3829176'}, {'entity_text': 'prevascularization', 'mention': 'prevascularization', 'type': 'T169', 'umls_id': 'C0042382'}, {'entity_text': 'membranes', 'mention': 'membranes', 'type': 'T073', 'umls_id': 'C1706182'}, {'entity_text': 'estimated', 'mention': 'estimated', 'type': 'T081', 'umls_id': 'C0750572'}, {'entity_text': 'study', 'mention': 'study', 'type': 'T062', 'umls_id': 'C2603343'}, {'entity_text': 'prevascularized', 'mention': 'prevascularized', 'type': 'T169', 'umls_id': 'C0042382'}, {'entity_text': 'port', 'mention': 'port', 'type': 'T073', 'umls_id': 'C1706409'}, {'entity_text': 'fibrous', 'mention': 'fibrous', 'type': 'T080', 'umls_id': 'C0439709'}, {'entity_text': 'encapsulation', 'mention': 'encapsulation', 'type': 'T067', 'umls_id': 'C2348438'}, {'entity_text': 'enhance', 'mention': 'enhance', 'type': 'T052', 'umls_id': 'C2349975'}, {'entity_text': 'diffusion', 'mention': 'diffusion', 'type': 'T070', 'umls_id': 'C0012222'}, {'entity_text': 'implanted medical devices', 'mention': 'implanted medical devices', 'type': 'T033', 'umls_id': 'C2828363'}, {'entity_text': 'sensors', 'mention': 'sensors', 'type': 'T073', 'umls_id': 'C0183210'}]\n"
     ]
    }
   ],
   "source": [
    "# Fonction pour associer les entités à leurs textes respectifs\n",
    "def associate_entities(pmid, annotations, text):\n",
    "    entities = []\n",
    "    for annot in annotations:\n",
    "        start = int(annot['start'])\n",
    "        end = int(annot['end'])\n",
    "        entity_text = text[start:end]\n",
    "        entities.append({\n",
    "            'entity_text': entity_text,\n",
    "            'mention': annot['mention'],\n",
    "            'type': annot['sem_type'],\n",
    "            'umls_id': annot['umls_id']\n",
    "        })\n",
    "    return entities\n",
    "\n",
    "# Association des entités avec les textes\n",
    "for pmid, annotations in pmid_to_annotations.items():\n",
    "    text = pmid_to_text[pmid]['title'] + ' ' + pmid_to_text[pmid]['abstract']\n",
    "    pmid_to_annotations[pmid] = associate_entities(pmid, annotations, text)\n",
    "\n",
    "# Exemple d'affichage des entités associées à un texte\n",
    "print(pmid_to_annotations['26316050'])\n"
   ]
  },
  {
   "cell_type": "markdown",
   "metadata": {},
   "source": [
    "Après avoir associé les entités aux textes, nous pouvons structurer les données dans un tableau ou un DataFrame pour une analyse ultérieure ou pour un rapport."
   ]
  },
  {
   "cell_type": "markdown",
   "metadata": {},
   "source": [
    "Cela créera un DataFrame avec les colonnes suivantes :\n",
    "\n",
    "    pmid : L'ID du document.\n",
    "    processed_text : Le texte prétraité du titre + résumé.\n",
    "    entity_text : Le texte de l'entité extraite.\n",
    "    mention : La mention annotée de l'entité.\n",
    "    type : Le type sémantique de l'entité.\n",
    "    umls_id : L'identifiant UMLS de l'entité."
   ]
  },
  {
   "cell_type": "code",
   "execution_count": 36,
   "metadata": {},
   "outputs": [
    {
     "name": "stdout",
     "output_type": "stream",
     "text": [
      "       pmid                                     processed_text  \\\n",
      "0  25763772  DCTN4 modifier chronic Pseudomonas aeruginosa ...   \n",
      "1  25763772  DCTN4 modifier chronic Pseudomonas aeruginosa ...   \n",
      "2  25763772  DCTN4 modifier chronic Pseudomonas aeruginosa ...   \n",
      "3  25763772  DCTN4 modifier chronic Pseudomonas aeruginosa ...   \n",
      "4  25763772  DCTN4 modifier chronic Pseudomonas aeruginosa ...   \n",
      "\n",
      "                                entity_text  \\\n",
      "0                                     DCTN4   \n",
      "1  chronic Pseudomonas aeruginosa infection   \n",
      "2                           cystic fibrosis   \n",
      "3     Pseudomonas aeruginosa (Pa) infection   \n",
      "4                           cystic fibrosis   \n",
      "\n",
      "                                    mention       type   umls_id  \n",
      "0                                     DCTN4  T116,T123  C4308010  \n",
      "1  chronic Pseudomonas aeruginosa infection       T047  C0854135  \n",
      "2                           cystic fibrosis       T047  C0010674  \n",
      "3     Pseudomonas aeruginosa (Pa) infection       T047  C0854135  \n",
      "4                           cystic fibrosis       T047  C0010674  \n"
     ]
    }
   ],
   "source": [
    "import pandas as pd\n",
    "\n",
    "# Structurer les résultats en DataFrame\n",
    "data = []\n",
    "for pmid, annotations in pmid_to_annotations.items():\n",
    "    for entity in annotations:\n",
    "        data.append({\n",
    "            'pmid': pmid,\n",
    "            'processed_text': pmid_to_text[pmid]['processed_text'],\n",
    "            'entity_text': entity['entity_text'],\n",
    "            'mention': entity['mention'],\n",
    "            'type': entity['type'],\n",
    "            'umls_id': entity['umls_id']\n",
    "        })\n",
    "\n",
    "df = pd.DataFrame(data)\n",
    "\n",
    "# Affichage des premières lignes du DataFrame\n",
    "print(df.head())\n"
   ]
  },
  {
   "cell_type": "markdown",
   "metadata": {},
   "source": [
    "### Analyse et exploitation des entités extraites"
   ]
  },
  {
   "cell_type": "markdown",
   "metadata": {},
   "source": [
    "#### Extraction de variables médicales clés"
   ]
  },
  {
   "cell_type": "markdown",
   "metadata": {},
   "source": [
    "On peut filtrer les entités de type T047 (qui représentent des maladies (Disease or Syndrome)), ce qui peut être pertinent pour extraire des diagnostics."
   ]
  },
  {
   "cell_type": "code",
   "execution_count": 37,
   "metadata": {},
   "outputs": [
    {
     "name": "stdout",
     "output_type": "stream",
     "text": [
      "                                     entity_text  \\\n",
      "1       chronic Pseudomonas aeruginosa infection   \n",
      "2                                cystic fibrosis   \n",
      "3          Pseudomonas aeruginosa (Pa) infection   \n",
      "4                                cystic fibrosis   \n",
      "5                                             CF   \n",
      "...                                          ...   \n",
      "351961                               hematologic   \n",
      "351962                 non- hematologic diseases   \n",
      "352073                          diabetes type II   \n",
      "352326                           effects of heat   \n",
      "352432                             periodontitis   \n",
      "\n",
      "                                         mention  type   umls_id  \n",
      "1       chronic Pseudomonas aeruginosa infection  T047  C0854135  \n",
      "2                                cystic fibrosis  T047  C0010674  \n",
      "3          Pseudomonas aeruginosa (Pa) infection  T047  C0854135  \n",
      "4                                cystic fibrosis  T047  C0010674  \n",
      "5                                             CF  T047  C0010674  \n",
      "...                                          ...   ...       ...  \n",
      "351961                               hematologic  T047  C0018939  \n",
      "351962                 non- hematologic diseases  T047  C0012634  \n",
      "352073                          diabetes type II  T047  C0011860  \n",
      "352326                           effects of heat  T047  C0221500  \n",
      "352432                             periodontitis  T047  C0031099  \n",
      "\n",
      "[11750 rows x 4 columns]\n"
     ]
    }
   ],
   "source": [
    "# Filtrer les entités qui représentent des maladies\n",
    "disease_entities = df[df['type'].str.contains('T047')]\n",
    "\n",
    "# Affichage des maladies extraites\n",
    "print(disease_entities[['entity_text', 'mention', 'type', 'umls_id']])"
   ]
  },
  {
   "cell_type": "markdown",
   "metadata": {},
   "source": [
    "On peut égalament filtrer d'autres types d'entités comme les médicaments (type T195)."
   ]
  },
  {
   "cell_type": "code",
   "execution_count": 38,
   "metadata": {},
   "outputs": [
    {
     "name": "stdout",
     "output_type": "stream",
     "text": [
      "       entity_text     mention       type   umls_id\n",
      "1283    vancomycin  vancomycin  T116,T195  C0042313\n",
      "1301    vancomycin  vancomycin  T116,T195  C0042313\n",
      "1317    vancomycin  vancomycin  T116,T195  C0042313\n",
      "1325    vancomycin  vancomycin  T116,T195  C0042313\n",
      "1333    vancomycin  vancomycin  T116,T195  C0042313\n",
      "...            ...         ...        ...       ...\n",
      "341625   bleomycin   bleomycin  T116,T195  C0005740\n",
      "341635   bleomycin   bleomycin  T116,T195  C0005740\n",
      "341641   bleomycin   bleomycin  T116,T195  C0005740\n",
      "347144       Today       Today  T109,T195  C0310367\n",
      "347164       today       today  T109,T195  C0310367\n",
      "\n",
      "[727 rows x 4 columns]\n"
     ]
    }
   ],
   "source": [
    "# Filtrer les entités qui représentent des médicaments\n",
    "disease_entities = df[df['type'].str.contains('T195')]\n",
    "\n",
    "# Affichage des maladies extraites\n",
    "print(disease_entities[['entity_text', 'mention', 'type', 'umls_id']])"
   ]
  },
  {
   "cell_type": "markdown",
   "metadata": {},
   "source": [
    "#### Statistiques descriptives sur les entités médicales"
   ]
  },
  {
   "cell_type": "markdown",
   "metadata": {},
   "source": [
    "Entités les plus fréquentes :"
   ]
  },
  {
   "cell_type": "code",
   "execution_count": 39,
   "metadata": {},
   "outputs": [
    {
     "name": "stdout",
     "output_type": "stream",
     "text": [
      "entity_text\n",
      "patients           4630\n",
      "study              1725\n",
      "associated with    1106\n",
      "treatment          1097\n",
      "expression          860\n",
      "increased           794\n",
      "data                778\n",
      "CI                  722\n",
      "group               720\n",
      "results             687\n",
      "Name: count, dtype: int64\n"
     ]
    }
   ],
   "source": [
    "# Compter la fréquence des entités médicales\n",
    "entity_freq = df['entity_text'].value_counts().head(10)\n",
    "\n",
    "# Affichage des entités les plus fréquentes\n",
    "print(entity_freq)\n"
   ]
  },
  {
   "cell_type": "markdown",
   "metadata": {},
   "source": [
    "#### Visualisation des fréquences"
   ]
  },
  {
   "cell_type": "code",
   "execution_count": 40,
   "metadata": {},
   "outputs": [
    {
     "data": {
      "image/png": "[encoded data removed]",
      "text/plain": [
       "<Figure size 640x480 with 1 Axes>"
      ]
     },
     "metadata": {},
     "output_type": "display_data"
    }
   ],
   "source": [
    "import matplotlib.pyplot as plt\n",
    "\n",
    "# Visualiser les entités les plus fréquentes\n",
    "entity_freq.plot(kind='bar')\n",
    "plt.title('Top 10 des entités médicales les plus fréquentes')\n",
    "plt.xlabel('Entités')\n",
    "plt.ylabel('Fréquence')\n",
    "plt.show()\n"
   ]
  },
  {
   "cell_type": "markdown",
   "metadata": {},
   "source": [
    "### Modélisation de classification"
   ]
  },
  {
   "cell_type": "markdown",
   "metadata": {},
   "source": [
    "Nous allons entraîner un modèle pour prédire des catégories de textes à partir des entités extraites, comme par exemple prédire si un texte fait référence à une infection ou à une maladie chronique. Pour cela, nous allons :\n",
    "\n",
    "    Créer un jeu de données annoté avec des classes cibles (par exemple, \"Infection\" ou \"Maladie chronique\").\n",
    "    Entraîner un modèle de machine learning pour la classification.\n",
    "    Évaluer les performances du modèle."
   ]
  },
  {
   "cell_type": "markdown",
   "metadata": {},
   "source": [
    "##### Création du dataset de classification"
   ]
  },
  {
   "cell_type": "code",
   "execution_count": 41,
   "metadata": {},
   "outputs": [
    {
     "name": "stdout",
     "output_type": "stream",
     "text": [
      "           pmid                                     processed_text      label\n",
      "0      25763772  DCTN4 modifier chronic Pseudomonas aeruginosa ...  Infection\n",
      "98     25847295  Nonylphenol diethoxylate inhibits apoptosis in...      Autre\n",
      "178    26316050  Prevascularized silicon membrane enhancement t...      Autre\n",
      "250    26406200  Seated maximum flexion alternative standing ma...      Autre\n",
      "331    26424709  Relationship Distance Visit Attendance Followi...      Autre\n",
      "...         ...                                                ...        ...\n",
      "39174  27389043  Identifying integrating patient caregiver pers...  Infection\n",
      "39255  27389831  Longitudinal live imaging retinal GFP deposit ...      Autre\n",
      "39344  27390504  Custom ocular prosthesis rehabilitation child ...      Autre\n",
      "39374  27390714  Health technology assessment sterilization Eve...      Autre\n",
      "39467  27390849  Pulmonary function quality life year follow ca...      Autre\n",
      "\n",
      "[500 rows x 3 columns]\n"
     ]
    }
   ],
   "source": [
    "# Création de labels pour un exemple simple\n",
    "def label_text(entities):\n",
    "    if any('infection' in entity.lower() for entity in entities):\n",
    "        return 'Infection'\n",
    "    elif any('chronic' in entity.lower() for entity in entities):\n",
    "        return 'Maladie chronique'\n",
    "    else:\n",
    "        return 'Autre'\n",
    "\n",
    "# Appliquer l'étiquetage en fonction des entités extraites\n",
    "df['label'] = df.groupby('pmid')['entity_text'].transform(label_text)\n",
    "\n",
    "# Affichage des premières lignes du DataFrame étiqueté\n",
    "print(df[['pmid', 'processed_text', 'label']].drop_duplicates().head(500))\n"
   ]
  },
  {
   "cell_type": "markdown",
   "metadata": {},
   "source": [
    "##### Préparation des données pour la modélisation"
   ]
  },
  {
   "cell_type": "markdown",
   "metadata": {},
   "source": [
    "Nous devons transformer les textes (prétraités) en caractéristiques exploitables pour un modèle de machine learning. Pour cela, nous pouvons utiliser la vectorisation de texte avec le TF-IDF (Term Frequency - Inverse Document Frequency)."
   ]
  },
  {
   "cell_type": "code",
   "execution_count": 42,
   "metadata": {},
   "outputs": [
    {
     "name": "stdout",
     "output_type": "stream",
     "text": [
      "(281996, 1000) (70500, 1000)\n"
     ]
    }
   ],
   "source": [
    "from sklearn.feature_extraction.text import TfidfVectorizer\n",
    "from sklearn.model_selection import train_test_split\n",
    "\n",
    "# Vectorisation TF-IDF des textes\n",
    "vectorizer = TfidfVectorizer(max_features=1000)\n",
    "X = vectorizer.fit_transform(df['processed_text'])\n",
    "\n",
    "# Labels\n",
    "y = df['label']\n",
    "\n",
    "# Séparation des données en ensembles d'entraînement et de test\n",
    "X_train, X_test, y_train, y_test = train_test_split(X, y, test_size=0.2, random_state=42)\n",
    "\n",
    "# X_train_small, _, y_train_small, _ = train_test_split(X_train, y_train, test_size=0.9, random_state=42)\n",
    "\n",
    "\n",
    "\n",
    "# Affichage de la taille des jeux de données\n",
    "print(X_train.shape, X_test.shape)\n"
   ]
  },
  {
   "cell_type": "markdown",
   "metadata": {},
   "source": [
    "##### Entraînement du modèle de classification"
   ]
  },
  {
   "cell_type": "markdown",
   "metadata": {},
   "source": [
    "Nous allons entraîner un modèle de classification simple, comme Naive Bayes, pour prédire les classes de textes médicaux. On pourrait aussi utiliser un Support Vector Machine (SVM) ou une régression logistique."
   ]
  },
  {
   "cell_type": "code",
   "execution_count": null,
   "metadata": {},
   "outputs": [],
   "source": [
    "from sklearn.naive_bayes import MultinomialNB\n",
    "from sklearn.metrics import accuracy_score, classification_report\n",
    "\n",
    "model = MultinomialNB()\n",
    "model.fit(X_train, y_train)\n",
    "y_pred = model.predict(X_test)"
   ]
  },
  {
   "cell_type": "markdown",
   "metadata": {},
   "source": [
    "##### Évaluation des performances\n",
    "\n",
    "L'évaluation du modèle se fait à travers des métriques classiques comme l'accuracy, la précision, le rappel et le F1-score. Ces métriques nous donneront une bonne idée de la performance du modèle pour classer les textes médicaux.  \n",
    "Le rapport de classification affichera les performances pour chaque catégorie prédite."
   ]
  },
  {
   "cell_type": "code",
   "execution_count": 46,
   "metadata": {},
   "outputs": [
    {
     "name": "stdout",
     "output_type": "stream",
     "text": [
      "Accuracy: 0.9154609929078014\n",
      "                   precision    recall  f1-score   support\n",
      "\n",
      "            Autre       0.91      1.00      0.95     61548\n",
      "        Infection       0.95      0.51      0.67      4941\n",
      "Maladie chronique       0.97      0.14      0.24      4011\n",
      "\n",
      "         accuracy                           0.92     70500\n",
      "        macro avg       0.94      0.55      0.62     70500\n",
      "     weighted avg       0.92      0.92      0.89     70500\n",
      "\n"
     ]
    }
   ],
   "source": [
    "# Évaluation du modèle\n",
    "print(f'Accuracy: {accuracy_score(y_test, y_pred)}')\n",
    "print(classification_report(y_test, y_pred))\n"
   ]
  },
  {
   "cell_type": "markdown",
   "metadata": {},
   "source": [
    "    Classe \"Autre\" : le modèle réussit très bien avec une précision et un rappel proches de 1.00. C'est dû au fait que la majorité des exemples appartiennent à cette classe.\n",
    "    Classe \"Infection\" : Bien que la précision soit élevée (0.95), le rappel est plus faible (0.51), ce qui signifie que beaucoup d'exemples de la classe \"Infection\" ne sont pas correctement détectés.\n",
    "    Classe \"Maladie chronique\" : La performance est relativement faible avec une précision de 0.97 mais un rappel très bas (0.14), ce qui indique que le modèle ne détecte pas bien cette classe malgré une bonne précision.\n",
    "\n",
    "Cela montre que MultinomialNB est capable de bien gérer les classes majoritaires comme \"Autre\", mais a du mal à identifier les classes minoritaires comme \"Infection\" et \"Maladie chronique\"."
   ]
  },
  {
   "cell_type": "code",
   "execution_count": 47,
   "metadata": {},
   "outputs": [
    {
     "data": {
      "image/png": "[encoded data removed]",
      "text/plain": [
       "<Figure size 640x480 with 2 Axes>"
      ]
     },
     "metadata": {},
     "output_type": "display_data"
    }
   ],
   "source": [
    "from sklearn.metrics import confusion_matrix\n",
    "import seaborn as sns\n",
    "import matplotlib.pyplot as plt\n",
    "\n",
    "# Calculer la matrice de confusion\n",
    "cm = confusion_matrix(y_test, y_pred, labels=model.classes_)\n",
    "\n",
    "# Affichage de la matrice de confusion avec Seaborn\n",
    "sns.heatmap(cm, annot=True, fmt='d', cmap='Blues', xticklabels=model.classes_, yticklabels=model.classes_)\n",
    "plt.xlabel('Prédictions')\n",
    "plt.ylabel('Vérités terrain')\n",
    "plt.title('Matrice de confusion')\n",
    "plt.show()\n"
   ]
  },
  {
   "cell_type": "markdown",
   "metadata": {},
   "source": [
    "##### Stratégie pour améliorer les résultats : optimisation des paramètres"
   ]
  },
  {
   "cell_type": "markdown",
   "metadata": {},
   "source": [
    "On utilise une recherche en grille (GridSearchCV) pour trouver les meilleurs paramètres possibles."
   ]
  },
  {
   "cell_type": "code",
   "execution_count": 48,
   "metadata": {},
   "outputs": [
    {
     "name": "stdout",
     "output_type": "stream",
     "text": [
      "Accuracy: 0.9166382978723404\n",
      "                   precision    recall  f1-score   support\n",
      "\n",
      "            Autre       0.91      1.00      0.95     61548\n",
      "        Infection       0.95      0.53      0.68      4941\n",
      "Maladie chronique       0.97      0.14      0.24      4011\n",
      "\n",
      "         accuracy                           0.92     70500\n",
      "        macro avg       0.95      0.56      0.63     70500\n",
      "     weighted avg       0.92      0.92      0.90     70500\n",
      "\n"
     ]
    }
   ],
   "source": [
    "from sklearn.model_selection import GridSearchCV\n",
    "from sklearn.naive_bayes import MultinomialNB\n",
    "\n",
    "# Définir la grille de paramètres\n",
    "param_grid = {'alpha': [0.5, 1.0, 1.5]}\n",
    "\n",
    "# Recherche en grille\n",
    "grid_search = GridSearchCV(MultinomialNB(), param_grid, cv=5)\n",
    "grid_search.fit(X_train, y_train)\n",
    "\n",
    "# Meilleur modèle\n",
    "best_model = grid_search.best_estimator_\n",
    "\n",
    "# Prédiction et évaluation\n",
    "y_pred = best_model.predict(X_test)\n",
    "print(f'Accuracy: {accuracy_score(y_test, y_pred)}')\n",
    "print(classification_report(y_test, y_pred))\n"
   ]
  },
  {
   "cell_type": "markdown",
   "metadata": {},
   "source": [
    "Les résultats obtenus après optimisation avec GridSearchCV montrent une légère amélioration, mais les problèmes de gestion des classes minoritaires persistent, en particulier pour la classe Maladie chronique."
   ]
  },
  {
   "cell_type": "markdown",
   "metadata": {},
   "source": [
    "Une solution consisterait à sur-échantillonner cette classe (avec SMOTE) ou à sous-échantillonner la classe majoritaire (\"Autre\"). Cela permettrait d'entraîner le modèle avec un jeu de données plus équilibré.  \n",
    "On peut également utiliser un autre modèle: RandomForest, qui est souvent plus robuste face aux déséquilibres."
   ]
  },
  {
   "cell_type": "markdown",
   "metadata": {},
   "source": [
    "#### Modélisation avec RandomForest"
   ]
  },
  {
   "cell_type": "code",
   "execution_count": 49,
   "metadata": {},
   "outputs": [
    {
     "name": "stdout",
     "output_type": "stream",
     "text": [
      "Accuracy: 1.0\n",
      "                   precision    recall  f1-score   support\n",
      "\n",
      "            Autre       1.00      1.00      1.00     61548\n",
      "        Infection       1.00      1.00      1.00      4941\n",
      "Maladie chronique       1.00      1.00      1.00      4011\n",
      "\n",
      "         accuracy                           1.00     70500\n",
      "        macro avg       1.00      1.00      1.00     70500\n",
      "     weighted avg       1.00      1.00      1.00     70500\n",
      "\n"
     ]
    }
   ],
   "source": [
    "from sklearn.ensemble import RandomForestClassifier\n",
    "m\n",
    "model = RandomForestClassifier(class_weight='balanced')  # Ajustement pour pondérer les classes\n",
    "model.fit(X_train, y_train)\n",
    "\n",
    "y_pred = model.predict(X_test)\n",
    "\n",
    "# Évaluation\n",
    "print(f'Accuracy: {accuracy_score(y_test, y_pred)}')\n",
    "print(classification_report(y_test, y_pred))\n"
   ]
  },
  {
   "cell_type": "markdown",
   "metadata": {},
   "source": [
    "Ces résultats montrent une accuracy parfaite (1.00) pour toutes les classes avec des scores parfaits de précision, rappel, et F1-score. Bien que cela puisse sembler idéal, il est possible que ces résultats indiquent un surapprentissage (overfitting) du modèle, surtout quand on utilise un modèle de RandomForestClassifier sur un jeu de données très déséquilibré.  \n",
    "Comme la majorité des données appartient à la classe \"Autre\", il est possible que le modèle ait très bien appris cette classe et puisse faussement attribuer une performance parfaite aux classes minoritaires.  \n",
    "Faire une validation croisée nous permettra de vérifier s'il y a effectivement overfitting."
   ]
  },
  {
   "cell_type": "code",
   "execution_count": 50,
   "metadata": {},
   "outputs": [
    {
     "name": "stdout",
     "output_type": "stream",
     "text": [
      "Scores de validation croisée: [1. 1. 1. 1. 1.]\n",
      "Moyenne des scores: 1.0\n"
     ]
    }
   ],
   "source": [
    "from sklearn.model_selection import cross_val_score\n",
    "\n",
    "# Validation croisée sur 5 plis\n",
    "scores = cross_val_score(model, X_train, y_train, cv=5)\n",
    "\n",
    "# Affichage des résultats\n",
    "print(f'Scores de validation croisée: {scores}')\n",
    "print(f'Moyenne des scores: {scores.mean()}')\n"
   ]
  },
  {
   "cell_type": "markdown",
   "metadata": {},
   "source": [
    "Obtenir des scores parfaits (1.0) sur chaque pli de la validation croisée est un signe clair de surapprentissage (overfitting). Cela signifie que le modèle a appris à mémoriser les données d'entraînement au lieu de généraliser à des exemples qu'il n'a jamais vus. En d'autres termes, le modèle est probablement trop complexe pour ce jeu de données. \n",
    "   \n",
    "On peut réduire cette complexité en limitant la profondeur des arbres et d'autres hyperparamètres importants. Par exemple, on peut :  \n",
    "- Limiter la profondeur des arbres (max_depth) pour empêcher chaque arbre de mémoriser les données.  \n",
    "- Réduire le nombre d'arbres (n_estimators) pour limiter la capacité du modèle à surapprendre.  \n",
    "- Utiliser des feuilles minimales (min_samples_leaf) pour éviter que les arbres ne soient trop spécialisés.  \n"
   ]
  }
 ],
 "metadata": {
  "kernelspec": {
   "display_name": "medenv",
   "language": "python",
   "name": "python3"
  },
  "language_info": {
   "codemirror_mode": {
    "name": "ipython",
    "version": 3
   },
   "file_extension": ".py",
   "mimetype": "text/x-python",
   "name": "python",
   "nbconvert_exporter": "python",
   "pygments_lexer": "ipython3",
   "version": "3.11.6"
  }
 },
 "nbformat": 4,
 "nbformat_minor": 2
}
